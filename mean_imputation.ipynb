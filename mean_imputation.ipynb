{
 "cells": [
  {
   "cell_type": "code",
   "execution_count": 2,
   "metadata": {},
   "outputs": [
    {
     "name": "stdout",
     "output_type": "stream",
     "text": [
      "Imputed CSV file saved to: resources/Metro_median_sale_price_uc_sfrcondo_month_imputed.csv\n"
     ]
    }
   ],
   "source": [
    "import pandas as pd\n",
    "\n",
    "def fill_mean(row):\n",
    "    \"\"\"\n",
    "    Function to fill in the mean value for each numerical cell in a row.\n",
    "    Non-numerical cells are ignored.\n",
    "    \"\"\"\n",
    "    mean_val = row.mean()\n",
    "    return row.fillna(mean_val)\n",
    "\n",
    "def perform_imputation(file_path):\n",
    "    \"\"\"\n",
    "    Function to perform mean imputation on a CSV file.\n",
    "    It reads the file, imputes missing numerical values, and saves the result to a new file.\n",
    "    \"\"\"\n",
    "    # Load the CSV file\n",
    "    df = pd.read_csv(file_path)\n",
    "\n",
    "    # Separate the non-numerical and numerical columns\n",
    "    non_numerical_cols = df.select_dtypes(include=['object', 'category']).columns\n",
    "    numerical_cols = df.select_dtypes(include=['number']).columns\n",
    "\n",
    "    # Perform mean imputation only on numerical columns\n",
    "    df_numerical = df[numerical_cols].apply(fill_mean, axis=1)\n",
    "\n",
    "    # Combine the non-numerical and imputed numerical columns\n",
    "    df_imputed = pd.concat([df[non_numerical_cols], df_numerical], axis=1)\n",
    "\n",
    "    # Define the output file path\n",
    "    output_file_path = file_path.replace('.csv', '_imputed.csv')\n",
    "\n",
    "    # Save the imputed data to a new CSV file\n",
    "    df_imputed.to_csv(output_file_path, index=False)\n",
    "\n",
    "    return output_file_path\n",
    "\n",
    "# Define the path to your CSV file\n",
    "file_path = 'resources/Metro_median_sale_price_uc_sfrcondo_month.csv'\n",
    "\n",
    "# Perform the imputation\n",
    "output_file_path = perform_imputation(file_path)\n",
    "\n",
    "# Output the path to the imputed file\n",
    "print(f\"Imputed CSV file saved to: {output_file_path}\")\n"
   ]
  },
  {
   "cell_type": "code",
   "execution_count": null,
   "metadata": {},
   "outputs": [],
   "source": []
  }
 ],
 "metadata": {
  "kernelspec": {
   "display_name": "bootcamp",
   "language": "python",
   "name": "python3"
  },
  "language_info": {
   "codemirror_mode": {
    "name": "ipython",
    "version": 3
   },
   "file_extension": ".py",
   "mimetype": "text/x-python",
   "name": "python",
   "nbconvert_exporter": "python",
   "pygments_lexer": "ipython3",
   "version": "3.11.5"
  }
 },
 "nbformat": 4,
 "nbformat_minor": 2
}
