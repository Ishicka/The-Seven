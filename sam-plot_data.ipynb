{
 "cells": [
  {
   "cell_type": "code",
   "execution_count": 15,
   "metadata": {},
   "outputs": [],
   "source": [
    "import pandas as pd\n",
    "import numpy as np\n",
    "import matplotlib.pyplot as plt\n"
   ]
  },
  {
   "cell_type": "code",
   "execution_count": 16,
   "metadata": {},
   "outputs": [
    {
     "data": {
      "text/html": [
       "<div>\n",
       "<style scoped>\n",
       "    .dataframe tbody tr th:only-of-type {\n",
       "        vertical-align: middle;\n",
       "    }\n",
       "\n",
       "    .dataframe tbody tr th {\n",
       "        vertical-align: top;\n",
       "    }\n",
       "\n",
       "    .dataframe thead th {\n",
       "        text-align: right;\n",
       "    }\n",
       "</style>\n",
       "<table border=\"1\" class=\"dataframe\">\n",
       "  <thead>\n",
       "    <tr style=\"text-align: right;\">\n",
       "      <th></th>\n",
       "      <th>Name</th>\n",
       "      <th>State</th>\n",
       "      <th>Date</th>\n",
       "      <th>MedianSalePrice</th>\n",
       "      <th>Year</th>\n",
       "      <th>Median Income</th>\n",
       "      <th>MORTGAGE30US</th>\n",
       "      <th>HAI</th>\n",
       "    </tr>\n",
       "  </thead>\n",
       "  <tbody>\n",
       "    <tr>\n",
       "      <th>0</th>\n",
       "      <td>New York</td>\n",
       "      <td>NY</td>\n",
       "      <td>2009-04-30</td>\n",
       "      <td>339000.0</td>\n",
       "      <td>2009</td>\n",
       "      <td>50173.0</td>\n",
       "      <td>4.78</td>\n",
       "      <td>73.630547</td>\n",
       "    </tr>\n",
       "    <tr>\n",
       "      <th>1</th>\n",
       "      <td>Los Angeles</td>\n",
       "      <td>CA</td>\n",
       "      <td>2009-04-30</td>\n",
       "      <td>320000.0</td>\n",
       "      <td>2009</td>\n",
       "      <td>48570.0</td>\n",
       "      <td>4.78</td>\n",
       "      <td>75.510228</td>\n",
       "    </tr>\n",
       "    <tr>\n",
       "      <th>2</th>\n",
       "      <td>Chicago</td>\n",
       "      <td>IL</td>\n",
       "      <td>2009-04-30</td>\n",
       "      <td>192000.0</td>\n",
       "      <td>2009</td>\n",
       "      <td>46781.0</td>\n",
       "      <td>4.78</td>\n",
       "      <td>121.214878</td>\n",
       "    </tr>\n",
       "    <tr>\n",
       "      <th>3</th>\n",
       "      <td>Dallas</td>\n",
       "      <td>TX</td>\n",
       "      <td>2009-04-30</td>\n",
       "      <td>140000.0</td>\n",
       "      <td>2009</td>\n",
       "      <td>41266.0</td>\n",
       "      <td>4.78</td>\n",
       "      <td>146.639845</td>\n",
       "    </tr>\n",
       "    <tr>\n",
       "      <th>4</th>\n",
       "      <td>Houston</td>\n",
       "      <td>TX</td>\n",
       "      <td>2009-04-30</td>\n",
       "      <td>145000.0</td>\n",
       "      <td>2009</td>\n",
       "      <td>42797.0</td>\n",
       "      <td>4.78</td>\n",
       "      <td>146.836147</td>\n",
       "    </tr>\n",
       "  </tbody>\n",
       "</table>\n",
       "</div>"
      ],
      "text/plain": [
       "          Name State        Date  MedianSalePrice  Year  Median Income  \\\n",
       "0     New York    NY  2009-04-30         339000.0  2009        50173.0   \n",
       "1  Los Angeles    CA  2009-04-30         320000.0  2009        48570.0   \n",
       "2      Chicago    IL  2009-04-30         192000.0  2009        46781.0   \n",
       "3       Dallas    TX  2009-04-30         140000.0  2009        41266.0   \n",
       "4      Houston    TX  2009-04-30         145000.0  2009        42797.0   \n",
       "\n",
       "   MORTGAGE30US         HAI  \n",
       "0          4.78   73.630547  \n",
       "1          4.78   75.510228  \n",
       "2          4.78  121.214878  \n",
       "3          4.78  146.639845  \n",
       "4          4.78  146.836147  "
      ]
     },
     "execution_count": 16,
     "metadata": {},
     "output_type": "execute_result"
    }
   ],
   "source": [
    "df = pd.read_csv('sam-resources/data.csv')\n",
    "df.head()\n"
   ]
  },
  {
   "cell_type": "code",
   "execution_count": 17,
   "metadata": {},
   "outputs": [
    {
     "data": {
      "image/png": "[encoded data removed]",
      "text/plain": [
       "<Figure size 640x480 with 1 Axes>"
      ]
     },
     "metadata": {},
     "output_type": "display_data"
    }
   ],
   "source": [
    "# Line plot of the average housing affordability index by year\n",
    "df.groupby('Year')['HAI'].mean().plot()\n",
    "plt.show()\n"
   ]
  },
  {
   "cell_type": "code",
   "execution_count": 18,
   "metadata": {},
   "outputs": [
    {
     "data": {
      "text/html": [
       "<div>\n",
       "<style scoped>\n",
       "    .dataframe tbody tr th:only-of-type {\n",
       "        vertical-align: middle;\n",
       "    }\n",
       "\n",
       "    .dataframe tbody tr th {\n",
       "        vertical-align: top;\n",
       "    }\n",
       "\n",
       "    .dataframe thead th {\n",
       "        text-align: right;\n",
       "    }\n",
       "</style>\n",
       "<table border=\"1\" class=\"dataframe\">\n",
       "  <thead>\n",
       "    <tr style=\"text-align: right;\">\n",
       "      <th></th>\n",
       "      <th>City</th>\n",
       "      <th>Total Population</th>\n",
       "      <th>Total Labor Force</th>\n",
       "      <th>Unemployed Labor Force</th>\n",
       "      <th>Median Income</th>\n",
       "      <th>Year</th>\n",
       "    </tr>\n",
       "  </thead>\n",
       "  <tbody>\n",
       "    <tr>\n",
       "      <th>0</th>\n",
       "      <td>Pine Flat CDP, CA</td>\n",
       "      <td>114</td>\n",
       "      <td>22.0</td>\n",
       "      <td>4.0</td>\n",
       "      <td>15724.0</td>\n",
       "      <td>2011</td>\n",
       "    </tr>\n",
       "    <tr>\n",
       "      <th>1</th>\n",
       "      <td>Pine Grove CDP, CA</td>\n",
       "      <td>2573</td>\n",
       "      <td>1098.0</td>\n",
       "      <td>64.0</td>\n",
       "      <td>52917.0</td>\n",
       "      <td>2011</td>\n",
       "    </tr>\n",
       "    <tr>\n",
       "      <th>2</th>\n",
       "      <td>Pine Mountain Lake CDP, CA</td>\n",
       "      <td>2695</td>\n",
       "      <td>942.0</td>\n",
       "      <td>100.0</td>\n",
       "      <td>54200.0</td>\n",
       "      <td>2011</td>\n",
       "    </tr>\n",
       "    <tr>\n",
       "      <th>3</th>\n",
       "      <td>Piñon Hills CDP, CA</td>\n",
       "      <td>6130</td>\n",
       "      <td>2510.0</td>\n",
       "      <td>503.0</td>\n",
       "      <td>38140.0</td>\n",
       "      <td>2011</td>\n",
       "    </tr>\n",
       "    <tr>\n",
       "      <th>4</th>\n",
       "      <td>Pioneer CDP, CA</td>\n",
       "      <td>1226</td>\n",
       "      <td>621.0</td>\n",
       "      <td>109.0</td>\n",
       "      <td>42917.0</td>\n",
       "      <td>2011</td>\n",
       "    </tr>\n",
       "  </tbody>\n",
       "</table>\n",
       "</div>"
      ],
      "text/plain": [
       "                         City  Total Population  Total Labor Force  \\\n",
       "0           Pine Flat CDP, CA               114               22.0   \n",
       "1          Pine Grove CDP, CA              2573             1098.0   \n",
       "2  Pine Mountain Lake CDP, CA              2695              942.0   \n",
       "3         Piñon Hills CDP, CA              6130             2510.0   \n",
       "4             Pioneer CDP, CA              1226              621.0   \n",
       "\n",
       "   Unemployed Labor Force  Median Income  Year  \n",
       "0                     4.0        15724.0  2011  \n",
       "1                    64.0        52917.0  2011  \n",
       "2                   100.0        54200.0  2011  \n",
       "3                   503.0        38140.0  2011  \n",
       "4                   109.0        42917.0  2011  "
      ]
     },
     "execution_count": 18,
     "metadata": {},
     "output_type": "execute_result"
    }
   ],
   "source": [
    "# Load new data\n",
    "df2 = pd.read_csv('sam-resources/census_data_2009-2022ksada.csv')\n",
    "\n",
    "df2.head()"
   ]
  },
  {
   "cell_type": "code",
   "execution_count": null,
   "metadata": {},
   "outputs": [],
   "source": []
  }
 ],
 "metadata": {
  "kernelspec": {
   "display_name": "bootcamp",
   "language": "python",
   "name": "python3"
  },
  "language_info": {
   "codemirror_mode": {
    "name": "ipython",
    "version": 3
   },
   "file_extension": ".py",
   "mimetype": "text/x-python",
   "name": "python",
   "nbconvert_exporter": "python",
   "pygments_lexer": "ipython3",
   "version": "3.11.5"
  }
 },
 "nbformat": 4,
 "nbformat_minor": 2
}
