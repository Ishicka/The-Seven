{
 "cells": [
  {
   "cell_type": "code",
   "execution_count": null,
   "metadata": {},
   "outputs": [],
   "source": [
    "import pandas as pd\n",
    "\n",
    "def interpolate_missing_values(dataframe):\n",
    "    \"\"\"\n",
    "    Fills missing values using linear interpolation for all numerical columns in a DataFrame.\n",
    "\n",
    "    Parameters:\n",
    "    - dataframe: pd.DataFrame, the DataFrame containing the data.\n",
    "\n",
    "    Returns:\n",
    "    - A DataFrame with missing values in numerical columns filled using linear interpolation.\n",
    "    \"\"\"\n",
    "    # Making a copy of the DataFrame to avoid modifying the original data\n",
    "    interpolated_df = dataframe.copy()\n",
    "\n",
    "    # Selecting only the numerical columns for interpolation\n",
    "    numerical_columns = interpolated_df.select_dtypes(include=['number']).columns\n",
    "\n",
    "    # Applying linear interpolation to the numerical columns\n",
    "    interpolated_df[numerical_columns] = interpolated_df[numerical_columns].interpolate(method='linear', axis=1)\n",
    "\n",
    "    return interpolated_df\n",
    "\n",
    "# Example usage\n",
    "file_path = 'sam-resources/Metro_median_sale_price_uc_sfrcondo_month.csv'\n",
    "data = pd.read_csv(file_path)\n",
    "\n",
    "# Call the function to interpolate missing values in all numerical columns\n",
    "data_interpolated = interpolate_missing_values(data)\n",
    "\n",
    "# You can now work with 'data_interpolated' for further analysis or processing\n"
   ]
  }
 ],
 "metadata": {
  "language_info": {
   "name": "python"
  }
 },
 "nbformat": 4,
 "nbformat_minor": 2
}
