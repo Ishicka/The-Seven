{
 "cells": [
  {
   "cell_type": "code",
   "execution_count": 71,
   "metadata": {},
   "outputs": [],
   "source": [
    "import pandas as pd\n",
    "import numpy as np \n",
    "\n",
    "file_path = \"./Resources/ZMedianHome.csv\"\n"
   ]
  },
  {
   "cell_type": "code",
   "execution_count": 72,
   "metadata": {},
   "outputs": [],
   "source": [
    "median_df = pd.read_csv(file_path)\n"
   ]
  },
  {
   "cell_type": "code",
   "execution_count": 73,
   "metadata": {},
   "outputs": [],
   "source": [
    "row_medians = median_df.iloc[:, 5:].median(axis=1)\n",
    "median_df.iloc[:, 5:] = median_df.iloc[:, 5:].apply(lambda x: x.fillna(row_medians[x.name]), axis=1)"
   ]
  },
  {
   "cell_type": "code",
   "execution_count": 76,
   "metadata": {},
   "outputs": [
    {
     "data": {
      "text/plain": [
       "RegionID      False\n",
       "SizeRank      False\n",
       "RegionName    False\n",
       "RegionType    False\n",
       "StateName      True\n",
       "              ...  \n",
       "6/30/2023     False\n",
       "7/31/2023     False\n",
       "8/31/2023     False\n",
       "9/30/2023     False\n",
       "10/31/2023    False\n",
       "Length: 194, dtype: bool"
      ]
     },
     "execution_count": 76,
     "metadata": {},
     "output_type": "execute_result"
    }
   ],
   "source": [
    "median_df.isnull().any()"
   ]
  }
 ],
 "metadata": {
  "kernelspec": {
   "display_name": "dev",
   "language": "python",
   "name": "python3"
  },
  "language_info": {
   "codemirror_mode": {
    "name": "ipython",
    "version": 3
   },
   "file_extension": ".py",
   "mimetype": "text/x-python",
   "name": "python",
   "nbconvert_exporter": "python",
   "pygments_lexer": "ipython3",
   "version": "3.10.13"
  }
 },
 "nbformat": 4,
 "nbformat_minor": 2
}
